{
 "cells": [
  {
   "cell_type": "code",
   "execution_count": 18,
   "metadata": {},
   "outputs": [],
   "source": [
    "import hashlib\n",
    "import datetime\n",
    "\n",
    "class Block:\n",
    "\n",
    "    def __init__(self, timestamp, data, previous_hash):\n",
    "        self.timestamp = time.strftime('%d/%m/%Y %H:%M%p', timestamp)\n",
    "        self.data = data\n",
    "        self.previous_hash = previous_hash\n",
    "        self.hash = self.calc_hash()\n",
    "\n",
    "    def calc_hash(self):\n",
    "        sha = hashlib.sha256()\n",
    "        hash_str = str(self.data).encode('utf-8')\n",
    "        sha.update(hash_str)\n",
    "        return sha.hexdigest()\n",
    "\n",
    "    def __str__(self):\n",
    "        string =  'Data: ' + str(self.data) + '\\n'\n",
    "        string += 'Time: ' + str(self.timestamp) + '\\n'\n",
    "        string += 'Hash: ' + str(self.hash) + '\\n'\n",
    "        string += 'Prev Hash:' + str(self.previous_hash) + '\\n'\n",
    "        return string\n",
    "    \n",
    "class Blockchain:\n",
    "\n",
    "    def __init__(self):\n",
    "        self.current_block = None\n",
    "\n",
    "    def add_block(self, value):\n",
    "        timestamp = time.gmtime()\n",
    "        data = value\n",
    "        previous_hash = self.current_block.hash if self.current_block else 0\n",
    "        self.current_block = Block(timestamp, data, previous_hash)"
   ]
  },
  {
   "cell_type": "code",
   "execution_count": 19,
   "metadata": {},
   "outputs": [
    {
     "name": "stdout",
     "output_type": "stream",
     "text": [
      "Data: I have a blockchain.\n",
      "Time: 20/10/2019 16:45PM\n",
      "Hash: 5689ce8e17e1690ad698582789a77b4e74777bd4d24ac3afbb16f74274be4945\n",
      "Prev Hash:0\n",
      "\n",
      "Data: It's stores a lot of data.\n",
      "Time: 20/10/2019 16:45PM\n",
      "Hash: e3ad7bbd27e5997b6cae4fe3c6b82081ad4a73f61a02f8f6f8ab4e7f22f888e9\n",
      "Prev Hash:5689ce8e17e1690ad698582789a77b4e74777bd4d24ac3afbb16f74274be4945\n",
      "\n",
      "Data: It's also secure.\n",
      "Time: 20/10/2019 16:45PM\n",
      "Hash: 60de085298c394de8479abddfb2fd692abee2a1ec2e67221feb85db901d4cffa\n",
      "Prev Hash:e3ad7bbd27e5997b6cae4fe3c6b82081ad4a73f61a02f8f6f8ab4e7f22f888e9\n",
      "\n"
     ]
    }
   ],
   "source": [
    "blockchain = Blockchain()\n",
    "\n",
    "blockchain.add_block('I have a blockchain.')\n",
    "print(blockchain.current_block)\n",
    "\n",
    "blockchain.add_block(\"It's stores a lot of data.\")\n",
    "print(blockchain.current_block)\n",
    "\n",
    "blockchain.add_block(\"It's also secure.\")\n",
    "print(blockchain.current_block)"
   ]
  },
  {
   "cell_type": "code",
   "execution_count": null,
   "metadata": {},
   "outputs": [],
   "source": []
  }
 ],
 "metadata": {
  "kernelspec": {
   "display_name": "Python 3",
   "language": "python",
   "name": "python3"
  },
  "language_info": {
   "codemirror_mode": {
    "name": "ipython",
    "version": 3
   },
   "file_extension": ".py",
   "mimetype": "text/x-python",
   "name": "python",
   "nbconvert_exporter": "python",
   "pygments_lexer": "ipython3",
   "version": "3.6.8"
  }
 },
 "nbformat": 4,
 "nbformat_minor": 2
}
