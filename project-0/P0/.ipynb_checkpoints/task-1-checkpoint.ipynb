{
 "cells": [
  {
   "cell_type": "code",
   "execution_count": 40,
   "metadata": {},
   "outputs": [
    {
     "name": "stdout",
     "output_type": "stream",
     "text": [
      "There are 570 different telephone numbers in the records.\n"
     ]
    }
   ],
   "source": [
    "\"\"\"\n",
    "Read file into texts and calls.\n",
    "It's ok if you don't understand how to read files.\n",
    "\"\"\"\n",
    "import csv\n",
    "with open('texts.csv', 'r') as f:\n",
    "    reader = csv.reader(f)\n",
    "    texts = list(reader)\n",
    "\n",
    "with open('calls.csv', 'r') as f:\n",
    "    reader = csv.reader(f)\n",
    "    calls = list(reader)\n",
    "\n",
    "\n",
    "\"\"\"\n",
    "TASK 1:\n",
    "How many different telephone numbers are there in the records? \n",
    "Print a message:\n",
    "\"There are <count> different telephone numbers in the records.\"\n",
    "\"\"\""
   ]
  },
  {
   "cell_type": "code",
   "execution_count": 45,
   "metadata": {},
   "outputs": [
    {
     "name": "stdout",
     "output_type": "stream",
     "text": [
      "There are 570 different telephone numbers in the records.\n",
      "CPU times: user 4.48 ms, sys: 75 µs, total: 4.56 ms\n",
      "Wall time: 4.72 ms\n"
     ]
    }
   ],
   "source": [
    "%%time\n",
    "all_nums = []\n",
    "\n",
    "for i in texts:\n",
    "    all_nums.append(i[0])\n",
    "    all_nums.append(i[1])\n",
    "\n",
    "for i in calls:\n",
    "    all_nums.append(i[0])\n",
    "    all_nums.append(i[1])\n",
    "\n",
    "set_nums = set(all_nums)\n",
    "print(\"There are\",len(set_nums),\"different telephone numbers in the records.\")"
   ]
  },
  {
   "cell_type": "code",
   "execution_count": 117,
   "metadata": {},
   "outputs": [
    {
     "name": "stdout",
     "output_type": "stream",
     "text": [
      "CPU times: user 2 µs, sys: 1 µs, total: 3 µs\n",
      "Wall time: 4.77 µs\n",
      "There are 570 different telephone numbers in the records.\n"
     ]
    }
   ],
   "source": [
    "%time\n",
    "import pandas as pd\n",
    "\n",
    "calls_df = pd.DataFrame(calls, columns=['a','b','call_dt','duration'])\n",
    "texts_df = pd.DataFrame(texts, columns=['a','b','text_dt'])\n",
    "\n",
    "a = calls_df.a.to_list()\n",
    "b = calls_df.b.to_list()\n",
    "c = texts_df.a.to_list()\n",
    "d = texts_df.b.to_list()\n",
    "e = a + b + c + d\n",
    "\n",
    "set_nums = set(e)\n",
    "print(\"There are\",len(set_nums),\"different telephone numbers in the records.\")"
   ]
  },
  {
   "cell_type": "code",
   "execution_count": 49,
   "metadata": {},
   "outputs": [
    {
     "name": "stdout",
     "output_type": "stream",
     "text": [
      "CPU times: user 3 µs, sys: 1e+03 ns, total: 4 µs\n",
      "Wall time: 6.2 µs\n",
      "There are 570 different telephone numbers in the records.\n"
     ]
    }
   ],
   "source": [
    "%time \n",
    "import pandas as pd\n",
    "\n",
    "calls_df = pd.DataFrame(calls, columns=['a','b','call_dt','duration'])\n",
    "texts_df = pd.DataFrame(texts, columns=['a','b','text_dt'])\n",
    "\n",
    "a = set(calls_df.a.to_list())\n",
    "b = set(calls_df.b.to_list())\n",
    "c = set(texts_df.a.to_list())\n",
    "d = set(texts_df.b.to_list())\n",
    "e = list(a) + list(b) + list(c) + list(d)\n",
    "\n",
    "set_nums = set(e)\n",
    "print(\"There are\",len(set_nums),\"different telephone numbers in the records.\")"
   ]
  },
  {
   "cell_type": "code",
   "execution_count": 116,
   "metadata": {},
   "outputs": [
    {
     "name": "stdout",
     "output_type": "stream",
     "text": [
      "CPU times: user 2 µs, sys: 0 ns, total: 2 µs\n",
      "Wall time: 4.77 µs\n",
      "There are 570 different telephone numbers in the records.\n"
     ]
    }
   ],
   "source": [
    "#remove unneeded columns, join both arrays, then use pandas unique() - which uses hashtable\n",
    "%time\n",
    "calls_df = pd.DataFrame.from_records(calls, exclude=['call_dt','duration'], columns = ['a','b','call_dt','duration']) \n",
    "texts_df = pd.DataFrame.from_records(texts, exclude=['text_dt'], columns = ['a','b','text_dt'])\n",
    "\n",
    "combined_dt = pd.concat([calls_df,texts_df])\n",
    "rr = pd.unique(combined_dt[['a', 'b']].values.ravel('K'))\n",
    "print(\"There are\",len(rr),\"different telephone numbers in the records.\")"
   ]
  },
  {
   "cell_type": "code",
   "execution_count": null,
   "metadata": {},
   "outputs": [],
   "source": []
  }
 ],
 "metadata": {
  "kernelspec": {
   "display_name": "Python 3",
   "language": "python",
   "name": "python3"
  },
  "language_info": {
   "codemirror_mode": {
    "name": "ipython",
    "version": 3
   },
   "file_extension": ".py",
   "mimetype": "text/x-python",
   "name": "python",
   "nbconvert_exporter": "python",
   "pygments_lexer": "ipython3",
   "version": "3.6.8"
  }
 },
 "nbformat": 4,
 "nbformat_minor": 2
}
