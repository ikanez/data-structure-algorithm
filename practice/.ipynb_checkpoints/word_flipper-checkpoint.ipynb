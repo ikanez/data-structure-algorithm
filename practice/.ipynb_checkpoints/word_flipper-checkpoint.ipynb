{
 "cells": [
  {
   "cell_type": "code",
   "execution_count": 1,
   "metadata": {},
   "outputs": [],
   "source": [
    "# Code \n",
    "\n",
    "def word_flipper(our_string):\n",
    "\n",
    "    \"\"\"\n",
    "    Flip the individual words in a sentence\n",
    "\n",
    "    Args:\n",
    "       our_string(string): String with words to flip\n",
    "    Returns:\n",
    "       string: String with words flipped\n",
    "    \"\"\"\n",
    "    \n",
    "    def string_reverser(our_string):\n",
    "\n",
    "        \"\"\"\n",
    "        Reverse the input string\n",
    "\n",
    "        Args:\n",
    "           our_string(string): String to be reversed\n",
    "        Returns:\n",
    "           string: The reversed string\n",
    "        \"\"\"\n",
    "\n",
    "        # TODO: Write your solution here\n",
    "        new_string = []\n",
    "        for i in range(len(our_string)):\n",
    "            i+=1\n",
    "            new_string.append(our_string[-i])\n",
    "\n",
    "        return ''.join(new_string)\n",
    "\n",
    "\n",
    "    # TODO: Write your solution here\n",
    "    list_of_word = our_string.split(' ')\n",
    "    new_list_of_word = []\n",
    "    \n",
    "    for word in list_of_word:\n",
    "        new_list_of_word.append(string_reverser(word))\n",
    "    \n",
    "    return ' '.join(new_list_of_word)\n",
    "    \n",
    "\n",
    "    "
   ]
  },
  {
   "cell_type": "code",
   "execution_count": 2,
   "metadata": {},
   "outputs": [
    {
     "name": "stdout",
     "output_type": "stream",
     "text": [
      "Pass\n",
      "Pass\n",
      "Pass\n"
     ]
    }
   ],
   "source": [
    "# Test Cases\n",
    "\n",
    "print (\"Pass\" if ('retaw' == word_flipper('water')) else \"Fail\")\n",
    "print (\"Pass\" if ('sihT si na elpmaxe' == word_flipper('This is an example')) else \"Fail\")\n",
    "print (\"Pass\" if ('sihT si eno llams pets rof ...' == word_flipper('This is one small step for ...')) else \"Fail\")"
   ]
  },
  {
   "cell_type": "code",
   "execution_count": null,
   "metadata": {},
   "outputs": [],
   "source": []
  }
 ],
 "metadata": {
  "kernelspec": {
   "display_name": "Python 3",
   "language": "python",
   "name": "python3"
  },
  "language_info": {
   "codemirror_mode": {
    "name": "ipython",
    "version": 3
   },
   "file_extension": ".py",
   "mimetype": "text/x-python",
   "name": "python",
   "nbconvert_exporter": "python",
   "pygments_lexer": "ipython3",
   "version": "3.6.8"
  }
 },
 "nbformat": 4,
 "nbformat_minor": 2
}
